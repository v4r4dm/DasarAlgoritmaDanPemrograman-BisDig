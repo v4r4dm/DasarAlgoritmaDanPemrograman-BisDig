{
  "nbformat": 4,
  "nbformat_minor": 0,
  "metadata": {
    "colab": {
      "provenance": [],
      "authorship_tag": "ABX9TyPgWEUI6F8H2qmMrIL+nY8Q",
      "include_colab_link": true
    },
    "kernelspec": {
      "name": "python3",
      "display_name": "Python 3"
    },
    "language_info": {
      "name": "python"
    }
  },
  "cells": [
    {
      "cell_type": "markdown",
      "metadata": {
        "id": "view-in-github",
        "colab_type": "text"
      },
      "source": [
        "<a href=\"https://colab.research.google.com/github/v4r4dm/DasarAlgoritmaDanPemrograman-BisDig/blob/main/Tugas_pertemuan_14_Vara_Desvita_M.ipynb\" target=\"_parent\"><img src=\"https://colab.research.google.com/assets/colab-badge.svg\" alt=\"Open In Colab\"/></a>"
      ]
    },
    {
      "cell_type": "markdown",
      "source": [
        "Nama: Vara Desvita Maharani (24110310086)"
      ],
      "metadata": {
        "id": "XddNACMznTFx"
      }
    },
    {
      "cell_type": "markdown",
      "source": [
        "1. Pengembangan Aplikasi"
      ],
      "metadata": {
        "id": "exE-LO40qSGe"
      }
    },
    {
      "cell_type": "code",
      "source": [
        "# Toko Online Sepatu - Versi Terminal\n",
        "\n",
        "# Daftar sepatu\n",
        "sepatu = [\n",
        "    {\"id\": 1, \"nama\": \"Sepatu Nike Air\", \"harga\": 750000},\n",
        "    {\"id\": 2, \"nama\": \"Sepatu Adidas Run\", \"harga\": 680000},\n",
        "    {\"id\": 3, \"nama\": \"Sepatu Converse Classic\", \"harga\": 450000},\n",
        "    {\"id\": 4, \"nama\": \"Sepatu Vans Old Skool\", \"harga\": 500000}\n",
        "]\n",
        "\n",
        "keranjang = []\n",
        "\n",
        "def tampilkan_sepatu():\n",
        "    print(\"\\nDaftar Sepatu Tersedia:\")\n",
        "    for s in sepatu:\n",
        "        print(f\"{s['id']}. {s['nama']} - Rp{s['harga']:,}\")\n",
        "\n",
        "def tambah_ke_keranjang():\n",
        "    try:\n",
        "        id_sepatu = int(input(\"Masukkan ID sepatu yang ingin dibeli: \"))\n",
        "        jumlah = int(input(\"Jumlah: \"))\n",
        "        for s in sepatu:\n",
        "            if s[\"id\"] == id_sepatu:\n",
        "                keranjang.append({\"nama\": s[\"nama\"], \"harga\": s[\"harga\"], \"jumlah\": jumlah})\n",
        "                print(f\"{jumlah} x {s['nama']} telah ditambahkan ke keranjang.\")\n",
        "                return\n",
        "        print(\"ID sepatu tidak ditemukan.\")\n",
        "    except ValueError:\n",
        "        print(\"Input tidak valid.\")\n",
        "\n",
        "def lihat_keranjang():\n",
        "    if not keranjang:\n",
        "        print(\"\\nKeranjang masih kosong.\")\n",
        "        return\n",
        "    print(\"\\nIsi Keranjang:\")\n",
        "    total = 0\n",
        "    for i, item in enumerate(keranjang, 1):\n",
        "        subtotal = item[\"harga\"] * item[\"jumlah\"]\n",
        "        print(f\"{i}. {item['nama']} - {item['jumlah']} x Rp{item['harga']:,} = Rp{subtotal:,}\")\n",
        "        total += subtotal\n",
        "    print(f\"Total Belanja: Rp{total:,}\")\n",
        "\n",
        "def checkout():\n",
        "    if not keranjang:\n",
        "        print(\"Keranjang kosong. Tidak bisa checkout.\")\n",
        "        return\n",
        "    lihat_keranjang()\n",
        "    konfirmasi = input(\"Lanjutkan ke pembayaran? (y/n): \").lower()\n",
        "    if konfirmasi == \"y\":\n",
        "        print(\"Pembayaran berhasil. Terima kasih sudah berbelanja!\")\n",
        "        keranjang.clear()\n",
        "    else:\n",
        "        print(\"Checkout dibatalkan.\")\n",
        "\n",
        "def menu():\n",
        "    while True:\n",
        "        print(\"\\n=== TOKO SEPATU ONLINE ===\")\n",
        "        print(\"1. Lihat Daftar Sepatu\")\n",
        "        print(\"2. Tambah ke Keranjang\")\n",
        "        print(\"3. Lihat Keranjang\")\n",
        "        print(\"4. Checkout\")\n",
        "        print(\"5. Keluar\")\n",
        "\n",
        "        pilihan = input(\"Pilih menu (1-5): \")\n",
        "\n",
        "        if pilihan == \"1\":\n",
        "            tampilkan_sepatu()\n",
        "        elif pilihan == \"2\":\n",
        "            tambah_ke_keranjang()\n",
        "        elif pilihan == \"3\":\n",
        "            lihat_keranjang()\n",
        "        elif pilihan == \"4\":\n",
        "            checkout()\n",
        "        elif pilihan == \"5\":\n",
        "            print(\"Terima kasih, sampai jumpa!\")\n",
        "            break\n",
        "        else:\n",
        "            print(\"Pilihan tidak valid. Coba lagi.\")\n",
        "\n",
        "# Jalankan program\n",
        "menu()\n"
      ],
      "metadata": {
        "colab": {
          "base_uri": "https://localhost:8080/"
        },
        "id": "Za7p2j1TbLzW",
        "outputId": "7cd8822a-cd6f-4502-ab40-df965b81b1eb"
      },
      "execution_count": 3,
      "outputs": [
        {
          "output_type": "stream",
          "name": "stdout",
          "text": [
            "\n",
            "=== TOKO SEPATU ONLINE ===\n",
            "1. Lihat Daftar Sepatu\n",
            "2. Tambah ke Keranjang\n",
            "3. Lihat Keranjang\n",
            "4. Checkout\n",
            "5. Keluar\n",
            "Pilih menu (1-5): 1\n",
            "\n",
            "Daftar Sepatu Tersedia:\n",
            "1. Sepatu Nike Air - Rp750,000\n",
            "2. Sepatu Adidas Run - Rp680,000\n",
            "3. Sepatu Converse Classic - Rp450,000\n",
            "4. Sepatu Vans Old Skool - Rp500,000\n",
            "\n",
            "=== TOKO SEPATU ONLINE ===\n",
            "1. Lihat Daftar Sepatu\n",
            "2. Tambah ke Keranjang\n",
            "3. Lihat Keranjang\n",
            "4. Checkout\n",
            "5. Keluar\n",
            "Pilih menu (1-5): 2\n",
            "Masukkan ID sepatu yang ingin dibeli: 123456\n",
            "Jumlah: 16\n",
            "ID sepatu tidak ditemukan.\n",
            "\n",
            "=== TOKO SEPATU ONLINE ===\n",
            "1. Lihat Daftar Sepatu\n",
            "2. Tambah ke Keranjang\n",
            "3. Lihat Keranjang\n",
            "4. Checkout\n",
            "5. Keluar\n",
            "Pilih menu (1-5): 3\n",
            "\n",
            "Keranjang masih kosong.\n",
            "\n",
            "=== TOKO SEPATU ONLINE ===\n",
            "1. Lihat Daftar Sepatu\n",
            "2. Tambah ke Keranjang\n",
            "3. Lihat Keranjang\n",
            "4. Checkout\n",
            "5. Keluar\n",
            "Pilih menu (1-5): 4\n",
            "Keranjang kosong. Tidak bisa checkout.\n",
            "\n",
            "=== TOKO SEPATU ONLINE ===\n",
            "1. Lihat Daftar Sepatu\n",
            "2. Tambah ke Keranjang\n",
            "3. Lihat Keranjang\n",
            "4. Checkout\n",
            "5. Keluar\n",
            "Pilih menu (1-5): 5\n",
            "Terima kasih, sampai jumpa!\n"
          ]
        }
      ]
    }
  ]
}